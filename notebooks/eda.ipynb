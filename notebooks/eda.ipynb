{
 "cells": [
  {
   "cell_type": "code",
   "execution_count": 2,
   "id": "8ac46d11",
   "metadata": {},
   "outputs": [],
   "source": [
    "import pandas as pd\n",
    "import sys\n",
    "import os\n",
    "\n",
    "import numpy as np\n",
    "from sklearn.model_selection import train_test_split\n",
    "from sklearn.preprocessing import LabelEncoder\n",
    "from imblearn.over_sampling import SMOTE\n",
    "import xgboost as xgb\n",
    "\n",
    "# Add the project root directory to the Python path\n",
    "# This allows you to import from the 'src' folder\n",
    "module_path = os.path.abspath(os.path.join('..'))\n",
    "if module_path not in sys.path:\n",
    "    sys.path.append(module_path)\n",
    "    \n",
    "from src import present_value as pv\n",
    "from src import synthetic_data_generator as sdg\n"
   ]
  },
  {
   "cell_type": "code",
   "execution_count": 3,
   "id": "7769310e",
   "metadata": {},
   "outputs": [
    {
     "data": {
      "text/plain": [
       "1709387.386259803"
      ]
     },
     "execution_count": 3,
     "metadata": {},
     "output_type": "execute_result"
    }
   ],
   "source": [
    "pv = pv.PresentValue()\n",
    "pv.fetch_salary_increase_per_year()\n",
    "pv.present_value(1000000, 2015, 2025)"
   ]
  },
  {
   "cell_type": "code",
   "execution_count": 4,
   "id": "1c4067c3",
   "metadata": {},
   "outputs": [],
   "source": [
    "def get_head(df: pd.DataFrame) -> pd.DataFrame:\n",
    "    df_head = df.iloc[ 0:15 , 0:2 ]\n",
    "    df_head = pd.DataFrame([df_head.iloc[:,1].to_list()], columns=df_head.iloc[:,0].to_list())\n",
    "\n",
    "    # Assign dtypes: categorical, string, and numeric\n",
    "    str_cols = [ \"NOMBRE DEL PROYECTO\"]\n",
    "    int_cols = [ \"AÑO INICIO\"]\n",
    "\n",
    "    df_head[str_cols] = df_head[str_cols].astype(\"string\")\n",
    "    df_head[int_cols] = df_head[int_cols].astype(\"Int64\")\n",
    "    \n",
    "    return df_head.loc[:, ['NOMBRE DEL PROYECTO','AÑO INICIO']]\n",
    "\n",
    "def get_uf(df: pd.DataFrame) -> pd.DataFrame:\n",
    "    df_uf = df.iloc[0:11,3:].iloc[ : , :-1 ]\n",
    "    column_names = (df_uf.iloc[1:, 0].astype(str) + \" \" + df_uf.iloc[1:, 1].astype(str)).to_list()\n",
    "    column_names = [column.replace(\" nan\", \"\") for column in column_names]\n",
    "    df_uf = df_uf.drop(df_uf.columns[[1]], axis=1)\n",
    "    \n",
    "    return df_uf, column_names\n",
    "\n",
    "def get_items(df: pd.DataFrame) -> pd.DataFrame:\n",
    "    \n",
    "    columns_names_items = [ \"1 - TRANSPORTE\", \"2 - TRAZADO Y DISEÑO GEOMÉTRICO\", \"2.1 - INFORMACIÓN GEOGRÁFICA\", \"2.2 TRAZADO Y DISEÑO GEOMÉTRICO\", \n",
    "                           \"2.3 - SEGURIDAD VIAL\", \"2.4 - SISTEMAS INTELIGENTES\", \"3 - GEOLOGÍA\", \"3.1 - GEOLOGÍA\", \"3.2 - HIDROGEOLOGÍA\", \n",
    "                           \"4 - SUELOS\", \"5 - TALUDES\", \"6 - PAVIMENTO\", \"7 - SOCAVACIÓN\", \"8 - ESTRUCTURAS\", \"9 - TÚNELES\", \"10 - URBANISMO Y PAISAJISMO\", \n",
    "                           \"11 - PREDIAL\", \"12 - IMPACTO AMBIENTAL\", \"13 - CANTIDADES\", \"14 - EVALUACIÓN SOCIOECONÓMICA\", \"15 - OTROS - MANEJO DE REDES\" ]\n",
    "    \n",
    "    df_items = df.iloc[ 17:, 0:2 ]\n",
    "    df_items = pd.DataFrame([df_items.iloc[:,1].to_list()], columns=columns_names_items) \n",
    "    return df_items\n"
   ]
  },
  {
   "cell_type": "code",
   "execution_count": 5,
   "id": "5f3277b7",
   "metadata": {},
   "outputs": [],
   "source": [
    "def assemble_sheet(df: pd.DataFrame) -> pd.DataFrame:\n",
    "\n",
    "    df_head = get_head(df)\n",
    "    df_uf, column_names = get_uf(df)\n",
    "    df_items = get_items(df)\n",
    "    rows = []\n",
    "    \n",
    "    #Create a row for each functional unit\n",
    "    for i in range(1, df_uf.shape[1]):\n",
    "        \n",
    "        #Aggregate longitud, puentes, tuneles for the current functional unit\n",
    "        df_uf_x = pd.DataFrame([df_uf.iloc[1:,i].to_list()], columns=column_names)  \n",
    "        df_uf_x['NOMBRE UF'] = df_uf.iloc[0, i]\n",
    "        \n",
    "        df_items_for_functional_unit = df_items / 1 # Future consideration divide  by df_uf_totals\n",
    "        \n",
    "        row = pd.concat([df_head, df_uf_x, df_items_for_functional_unit], axis=1)\n",
    "        rows.append(row)\n",
    "        \n",
    "    return pd.concat(rows, axis=0, ignore_index=True)\n"
   ]
  },
  {
   "cell_type": "code",
   "execution_count": 6,
   "id": "0adbd6af",
   "metadata": {},
   "outputs": [],
   "source": [
    "def assemble_project(filename: str) -> pd.DataFrame:\n",
    "    with pd.ExcelFile(filename, engine=\"openpyxl\") as xls:\n",
    "        \n",
    "        project_names = [project_name for project_name in xls.sheet_names if project_name.isnumeric()]\n",
    "        df_project =[]\n",
    "\n",
    "        for project_name in project_names:\n",
    "            df = pd.read_excel(filename, sheet_name=project_name, header=None, engine=\"openpyxl\")\n",
    "            df_project.append(assemble_sheet(df))\n",
    "            #TEMPORAL DEBUGGING\n",
    "            if project_name == '45000036221':\n",
    "                break \n",
    "\n",
    "    return pd.concat(df_project, axis=0, ignore_index=True)\n",
    "\n"
   ]
  },
  {
   "cell_type": "code",
   "execution_count": 7,
   "id": "5bb708ae",
   "metadata": {},
   "outputs": [],
   "source": [
    "def weighted_values(row: pd.Series) -> pd.Series:\n",
    "\n",
    "    row = row.fillna(0)\n",
    "\n",
    "    #Longitude analysis\n",
    "    longitude_weigth = row['LONGITUD KM WEIGHT']\n",
    "    row['1 - TRANSPORTE'] *= longitude_weigth\n",
    "    row['2 - TRAZADO Y DISEÑO GEOMÉTRICO'] *= longitude_weigth\n",
    "    row['2.1 - INFORMACIÓN GEOGRÁFICA'] *= longitude_weigth\n",
    "    row['2.2 TRAZADO Y DISEÑO GEOMÉTRICO'] *= longitude_weigth\n",
    "    row['2.3 - SEGURIDAD VIAL'] *= longitude_weigth\n",
    "    row['2.4 - SISTEMAS INTELIGENTES'] *= longitude_weigth\n",
    "    row['3 - GEOLOGÍA'] *= longitude_weigth   \n",
    "    row['3.1 - GEOLOGÍA'] *= longitude_weigth\n",
    "    row['3.2 - HIDROGEOLOGÍA'] *= longitude_weigth\n",
    "\n",
    "    row['5 - TALUDES'] *= longitude_weigth\n",
    "    row['6 - PAVIMENTO'] *= longitude_weigth\n",
    "    row['7 - SOCAVACIÓN'] *=     longitude_weigth\n",
    "\n",
    "    row['11 - PREDIAL'] *= longitude_weigth\n",
    "    row['12 - IMPACTO AMBIENTAL'] *= longitude_weigth\n",
    "\n",
    "    row['15 - OTROS - MANEJO DE REDES'] *= longitude_weigth\n",
    "    \n",
    "    #Bridge analysis\n",
    "    bridge_weigth = 1\n",
    "    if row['PUENTES VEHICULARES UND'] > 0 or row['PUENTES PEATONALES UND'] > 0:\n",
    "        bridges_ratio = 3\n",
    "        bridge_weigth = ((row['PUENTES VEHICULARES UND WEIGHT'] + row['PUENTES VEHICULARES M2 WEIGHT'])*bridges_ratio + row['PUENTES PEATONALES UND WEIGHT'])/bridges_ratio*3\n",
    "        row['4 - SUELOS'] *= bridge_weigth\n",
    "        row['8 - ESTRUCTURAS'] *= bridge_weigth\n",
    "    \n",
    "    #Tunnel analysis\n",
    "    tunnel_weight = 1\n",
    "    if row['TUNELES UND'] > 0:\n",
    "        tunnel_weight = row['TUNELES UND WEIGHT'] + row['TUNELES M2 WEIGHT']\n",
    "        row['9 - TÚNELES'] *= tunnel_weight\n",
    "    \n",
    "    #Urbanism analysis\n",
    "    urbanism_weight = 1\n",
    "    if row['PUENTES PEATONALES UND'] > 0:  \n",
    "        urbanism_weight = row['PUENTES PEATONALES UND WEIGHT']\n",
    "        row['10 - URBANISMO Y PAISAJISMO'] *= urbanism_weight\n",
    "    \n",
    "    return row\n"
   ]
  },
  {
   "cell_type": "code",
   "execution_count": 8,
   "id": "f274b4e8",
   "metadata": {},
   "outputs": [],
   "source": [
    "def present_value_costs(row: pd.Series, mask: list[str], present_year: int) -> pd.Series:\n",
    "    for col in mask:\n",
    "        row[col] = pv.present_value(row[col], row['AÑO INICIO'], present_year) \n",
    "    return row"
   ]
  },
  {
   "cell_type": "code",
   "execution_count": 9,
   "id": "8c60c6a6",
   "metadata": {},
   "outputs": [],
   "source": [
    "def create_dataset(filename: str) -> pd.DataFrame:\n",
    "    \n",
    "    df = assemble_project(filename)\n",
    "\n",
    "    mask = df.columns[df.columns.str.match(r\"^\\d\")].tolist()\n",
    "    df_present_value = df.apply(present_value_costs, axis=1, mask=mask, present_year=2025)\n",
    "    df = df_present_value.drop(columns=['AÑO INICIO', 'NOMBRE UF'])\n",
    "\n",
    "    cols = df.loc[:, 'LONGITUD KM':'TUNELES M2'].columns\n",
    "    totals = df.groupby('NOMBRE DEL PROYECTO')[cols].transform('sum').replace(0, pd.NA)\n",
    "    w = (df[cols] / totals).fillna(0)\n",
    "    w.columns = [f'{c} WEIGHT' for c in cols]\n",
    "    df = df.join(w)\n",
    "    df =df.apply(weighted_values, axis=1)\n",
    "    df = df.drop(columns=['NOMBRE DEL PROYECTO'])\n",
    "    df = df.loc[:, 'LONGITUD KM':'15 - OTROS - MANEJO DE REDES']\n",
    "    return df"
   ]
  },
  {
   "cell_type": "code",
   "execution_count": 10,
   "id": "ef8be052",
   "metadata": {},
   "outputs": [],
   "source": [
    "def remove_outliers(df, target='2.2 TRAZADO Y DISEÑO GEOMÉTRICO'):\n",
    "    q1, q3 = df[target].quantile(0.05), df[target].quantile(0.95)\n",
    "    iqr = q3 - q1\n",
    "    x_clean = (df[target] >= q1 - 1.5*iqr) & (df[target] <= q3 + 1.5*iqr) & (df[target] != 0)\n",
    "    \n",
    "    df_clean = df[x_clean]\n",
    "    return df_clean"
   ]
  },
  {
   "cell_type": "code",
   "execution_count": 11,
   "id": "71397170",
   "metadata": {},
   "outputs": [
    {
     "name": "stderr",
     "output_type": "stream",
     "text": [
      "C:\\Users\\forer\\AppData\\Local\\Temp\\ipykernel_24800\\3678980944.py:11: FutureWarning: Downcasting object dtype arrays on .fillna, .ffill, .bfill is deprecated and will change in a future version. Call result.infer_objects(copy=False) instead. To opt-in to the future behavior, set `pd.set_option('future.no_silent_downcasting', True)`\n",
      "  w = (df[cols] / totals).fillna(0)\n"
     ]
    }
   ],
   "source": [
    "filename = \"../data/raw/BASE DE DATOS PRESUPUESTOS.xlsx\"\n",
    "df = create_dataset(filename)"
   ]
  },
  {
   "cell_type": "code",
   "execution_count": null,
   "id": "8a075479",
   "metadata": {},
   "outputs": [
    {
     "data": {
      "text/html": [
       "<div>\n",
       "<style scoped>\n",
       "    .dataframe tbody tr th:only-of-type {\n",
       "        vertical-align: middle;\n",
       "    }\n",
       "\n",
       "    .dataframe tbody tr th {\n",
       "        vertical-align: top;\n",
       "    }\n",
       "\n",
       "    .dataframe thead th {\n",
       "        text-align: right;\n",
       "    }\n",
       "</style>\n",
       "<table border=\"1\" class=\"dataframe\">\n",
       "  <thead>\n",
       "    <tr style=\"text-align: right;\">\n",
       "      <th></th>\n",
       "      <th>LONGITUD KM</th>\n",
       "      <th>ALCANCE</th>\n",
       "      <th>2.2 TRAZADO Y DISEÑO GEOMÉTRICO</th>\n",
       "    </tr>\n",
       "  </thead>\n",
       "  <tbody>\n",
       "    <tr>\n",
       "      <th>43</th>\n",
       "      <td>49.4</td>\n",
       "      <td>Segunda calzada</td>\n",
       "      <td>8.595843e+07</td>\n",
       "    </tr>\n",
       "    <tr>\n",
       "      <th>44</th>\n",
       "      <td>40.8</td>\n",
       "      <td>Segunda calzada</td>\n",
       "      <td>7.099401e+07</td>\n",
       "    </tr>\n",
       "    <tr>\n",
       "      <th>1</th>\n",
       "      <td>22.2</td>\n",
       "      <td>Segunda calzada</td>\n",
       "      <td>5.985080e+07</td>\n",
       "    </tr>\n",
       "    <tr>\n",
       "      <th>45</th>\n",
       "      <td>26.4</td>\n",
       "      <td>Segunda calzada</td>\n",
       "      <td>4.593730e+07</td>\n",
       "    </tr>\n",
       "    <tr>\n",
       "      <th>39</th>\n",
       "      <td>26.2</td>\n",
       "      <td>Segunda calzada</td>\n",
       "      <td>4.558929e+07</td>\n",
       "    </tr>\n",
       "  </tbody>\n",
       "</table>\n",
       "</div>"
      ],
      "text/plain": [
       "    LONGITUD KM          ALCANCE  2.2 TRAZADO Y DISEÑO GEOMÉTRICO\n",
       "43         49.4  Segunda calzada                     8.595843e+07\n",
       "44         40.8  Segunda calzada                     7.099401e+07\n",
       "1          22.2  Segunda calzada                     5.985080e+07\n",
       "45         26.4  Segunda calzada                     4.593730e+07\n",
       "39         26.2  Segunda calzada                     4.558929e+07"
      ]
     },
     "execution_count": 72,
     "metadata": {},
     "output_type": "execute_result"
    }
   ],
   "source": [
    "df_cleaned = remove_outliers(df)[['LONGITUD KM', 'ALCANCE', '2.2 TRAZADO Y DISEÑO GEOMÉTRICO']].head(5)"
   ]
  },
  {
   "cell_type": "code",
   "execution_count": null,
   "id": "2521d3bc",
   "metadata": {},
   "outputs": [],
   "source": []
  }
 ],
 "metadata": {
  "kernelspec": {
   "display_name": "practicum",
   "language": "python",
   "name": "python3"
  },
  "language_info": {
   "codemirror_mode": {
    "name": "ipython",
    "version": 3
   },
   "file_extension": ".py",
   "mimetype": "text/x-python",
   "name": "python",
   "nbconvert_exporter": "python",
   "pygments_lexer": "ipython3",
   "version": "3.13.5"
  }
 },
 "nbformat": 4,
 "nbformat_minor": 5
}
