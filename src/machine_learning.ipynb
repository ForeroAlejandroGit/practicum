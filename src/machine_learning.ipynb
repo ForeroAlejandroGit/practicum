{
 "cells": [
  {
   "cell_type": "code",
   "execution_count": 69,
   "id": "c2a1893b",
   "metadata": {},
   "outputs": [
    {
     "name": "stdout",
     "output_type": "stream",
     "text": [
      "The autoreload extension is already loaded. To reload it, use:\n",
      "  %reload_ext autoreload\n"
     ]
    }
   ],
   "source": [
    "\n",
    "import pandas as pd\n",
    "\n",
    "from sklearn.model_selection import train_test_split, GridSearchCV, cross_validate, RepeatedKFold, LeaveOneOut\n",
    "from sklearn.compose import ColumnTransformer, TransformedTargetRegressor\n",
    "from sklearn.preprocessing import OneHotEncoder, StandardScaler\n",
    "from sklearn.pipeline import Pipeline\n",
    "from sklearn.svm import SVR\n",
    "from sklearn.linear_model import HuberRegressor, LinearRegression\n",
    "from sklearn.metrics import r2_score, mean_absolute_error, mean_squared_error, make_scorer\n",
    "import numpy as np, seaborn as sns, matplotlib.pyplot as plt\n",
    "\n",
    "import eda\n",
    "import present_value\n",
    "\n",
    "%load_ext autoreload\n",
    "%autoreload 2\n",
    "%reload_ext autoreload\n"
   ]
  },
  {
   "cell_type": "code",
   "execution_count": 13,
   "id": "421a4b46",
   "metadata": {},
   "outputs": [],
   "source": [
    "pv = present_value.PresentValue()\n",
    "anual_increment = pv.fetch_salary_increase_per_year()"
   ]
  },
  {
   "cell_type": "code",
   "execution_count": 25,
   "id": "618276aa",
   "metadata": {},
   "outputs": [
    {
     "name": "stderr",
     "output_type": "stream",
     "text": [
      "c:\\Code\\practicum\\src\\eda.py:135: FutureWarning: Downcasting object dtype arrays on .fillna, .ffill, .bfill is deprecated and will change in a future version. Call result.infer_objects(copy=False) instead. To opt-in to the future behavior, set `pd.set_option('future.no_silent_downcasting', True)`\n",
      "  w = (df[cols] / totals).fillna(0)\n"
     ]
    }
   ],
   "source": [
    "filename = \"../data/raw/BASE DE DATOS PRESUPUESTOS.xlsx\"\n",
    "preproccesing = eda.EDA(filename)\n",
    "df = preproccesing.create_dataset(pv.present_value_costs)"
   ]
  },
  {
   "cell_type": "code",
   "execution_count": 26,
   "id": "9274ca2b",
   "metadata": {},
   "outputs": [],
   "source": [
    "def remove_outliers(df, target: str) -> pd.DataFrame:\n",
    "    q1, q3 = df[target].quantile(0.05), df[target].quantile(0.95)\n",
    "    iqr = q3 - q1\n",
    "    x_clean = (df[target] >= q1 - 1.5*iqr) & (df[target] <= q3 + 1.5*iqr) & (df[target] != 0)\n",
    "    \n",
    "    df_clean = df[x_clean]\n",
    "    return df_clean"
   ]
  },
  {
   "cell_type": "code",
   "execution_count": null,
   "id": "1d9d7719",
   "metadata": {},
   "outputs": [],
   "source": [
    "def train_model(df_clean, predictor_name, hue_name, target_name):\n",
    "    X = df_clean[[predictor_name, hue_name]].copy()\n",
    "    X[predictor_name + ' LOG'] = np.log1p(X[predictor_name])\n",
    "    y = df_clean[target_name].astype(float)\n",
    "\n",
    "    pre = ColumnTransformer([\n",
    "        ('num', StandardScaler(), [predictor_name, predictor_name + ' LOG']),\n",
    "        ('cat', OneHotEncoder(drop='first', handle_unknown='ignore'), [hue_name])\n",
    "    ])\n",
    "\n",
    "    svr = SVR(kernel='rbf')\n",
    "    pipe = Pipeline([('pre', pre), ('svr', svr)])\n",
    "    model = TransformedTargetRegressor(regressor=pipe, func=np.log1p, inverse_func=np.expm1)\n",
    "\n",
    "    param_grid = {\n",
    "        'regressor__svr__C': [5, 10, 80, 200, 1000],\n",
    "        'regressor__svr__epsilon': [0.01],\n",
    "        'regressor__svr__gamma': ['scale', 'auto', 0.01, 0.1, 1.0],\n",
    "    }\n",
    "\n",
    "    cv = RepeatedKFold(n_splits=5, n_repeats=5, random_state=42)\n",
    "    gs = GridSearchCV(model, param_grid, scoring='neg_root_mean_squared_error', cv=cv, n_jobs=-1, refit=True)\n",
    "    gs.fit(X, y)\n",
    "\n",
    "    scores = cross_validate(gs.best_estimator_, X, y, cv=cv, \n",
    "                           scoring={'r2': 'r2', 'mae': 'neg_mean_absolute_error', \n",
    "                                    'rmse': 'neg_root_mean_squared_error'}, n_jobs=-1)\n",
    "    \n",
    "    y_predicted = gs.predict(X)\n",
    "    mape = np.mean(np.abs((y - y_predicted) / y.replace(0, np.nan))) * 100\n",
    "\n",
    "    print('Best params:', gs.best_params_)\n",
    "    print({'R2': scores['test_r2'].mean(), 'MAE': -scores['test_mae'].mean(), 'RMSE': -scores['test_rmse'].mean(), 'Full_MAPE%': float(mape)})\n",
    "\n",
    "    # plt.style.use('seaborn-v0_8-whitegrid')\n",
    "    # fig, ax = plt.subplots(1, 2, figsize=(12,5))\n",
    "    # ax[0].scatter(y, y_predicted, alpha=0.6); lim = [y.min(), y.max()]\n",
    "    # ax[0].plot(lim, lim, 'r--'); ax[0].set_title('Actual vs Pred'); ax[0].set_xlabel('Actual'); ax[0].set_ylabel('Predicted')\n",
    "    # sns.histplot(y - y_predicted, kde=True, ax=ax[1], color='slateblue'); ax[1].set_title('Residuals')\n",
    "    # plt.tight_layout(); plt.show()\n",
    "    \n",
    "    return X, y, y_predicted \n",
    "    "
   ]
  },
  {
   "cell_type": "code",
   "execution_count": null,
   "id": "9475b254",
   "metadata": {},
   "outputs": [
    {
     "name": "stdout",
     "output_type": "stream",
     "text": [
      "*********2.2 TRAZADO Y DISEÑO GEOMÉTRICO*********\n",
      "Best params: {'regressor__svr__C': 5, 'regressor__svr__epsilon': 0.01, 'regressor__svr__gamma': 1.0}\n",
      "{'R2': np.float64(0.7962218833740572), 'MAE': np.float64(4725717.8684844645), 'RMSE': np.float64(8921131.037139025), 'Full_MAPE%': 4.722184642741052}\n",
      "*********2.3 - SEGURIDAD VIAL*********\n",
      "Best params: {'regressor__svr__C': 10, 'regressor__svr__epsilon': 0.01, 'regressor__svr__gamma': 0.1}\n",
      "{'R2': np.float64(0.7214713003273263), 'MAE': np.float64(2614164.488472851), 'RMSE': np.float64(4924509.751561174), 'Full_MAPE%': 17.224377251099256}\n",
      "*********2.4 - SISTEMAS INTELIGENTES*********\n",
      "Best params: {'regressor__svr__C': 1000, 'regressor__svr__epsilon': 0.01, 'regressor__svr__gamma': 0.01}\n",
      "{'R2': np.float64(0.7391468529364189), 'MAE': np.float64(1232016.4907846171), 'RMSE': np.float64(2868227.839904746), 'Full_MAPE%': 2.158906992256163}\n",
      "*********5 - TALUDES*********\n",
      "Best params: {'regressor__svr__C': 200, 'regressor__svr__epsilon': 0.01, 'regressor__svr__gamma': 0.01}\n",
      "{'R2': np.float64(0.5634541375612255), 'MAE': np.float64(4717809.127248757), 'RMSE': np.float64(9874898.722018313), 'Full_MAPE%': 8.470367632641183}\n",
      "*********6 - PAVIMENTO*********\n",
      "Best params: {'regressor__svr__C': 80, 'regressor__svr__epsilon': 0.01, 'regressor__svr__gamma': 0.01}\n",
      "{'R2': np.float64(0.4188829037553247), 'MAE': np.float64(2714804.5731828846), 'RMSE': np.float64(5075140.97570157), 'Full_MAPE%': 8.095738805214044}\n",
      "*********7 - SOCAVACIÓN*********\n",
      "Best params: {'regressor__svr__C': 200, 'regressor__svr__epsilon': 0.01, 'regressor__svr__gamma': 0.01}\n",
      "{'R2': np.float64(0.8451293208915084), 'MAE': np.float64(5486376.47018787), 'RMSE': np.float64(10354846.229333365), 'Full_MAPE%': 9.064305205306702}\n",
      "*********11 - PREDIAL*********\n",
      "Best params: {'regressor__svr__C': 80, 'regressor__svr__epsilon': 0.01, 'regressor__svr__gamma': 0.01}\n",
      "{'R2': np.float64(nan), 'MAE': np.float64(1507056.9826925267), 'RMSE': np.float64(1738825.58017363), 'Full_MAPE%': 2.08093078131603}\n"
     ]
    }
   ],
   "source": [
    "predictor_name = 'LONGITUD KM'\n",
    "hue_name = 'ALCANCE'\n",
    "target_names_function_of_longitude = ['2.2 TRAZADO Y DISEÑO GEOMÉTRICO', \n",
    "                                      '2.3 - SEGURIDAD VIAL',\n",
    "                                      '2.4 - SISTEMAS INTELIGENTES', \n",
    "                                      '5 - TALUDES',\n",
    "                                      '6 - PAVIMENTO',\n",
    "                                      '7 - SOCAVACIÓN',\n",
    "                                      '11 - PREDIAL',\n",
    "                                      '12 - IMPACTO AMBIENTAL',\n",
    "                                      '15 - OTROS - MANEJO DE REDES']\n",
    "\n",
    "for target_name in target_names_function_of_longitude:\n",
    "    df_item = df.loc[:, [predictor_name, hue_name, target_name]]\n",
    "    df_item_cleaned = remove_outliers(df_item, target_name)\n",
    "    print(f'*********{target_name}*********')\n",
    "    # preproccesing.show_plots_eda(predictor_name, target_name, hue_name, df_item_cleaned)\n",
    "    X, y, y_predicted = train_model(df_item_cleaned, predictor_name, hue_name, target_name)\n",
    "    if target_name == '11 - PREDIAL':\n",
    "        break\n",
    "    "
   ]
  },
  {
   "cell_type": "code",
   "execution_count": 77,
   "id": "1e4429c4",
   "metadata": {},
   "outputs": [
    {
     "data": {
      "text/html": [
       "<div>\n",
       "<style scoped>\n",
       "    .dataframe tbody tr th:only-of-type {\n",
       "        vertical-align: middle;\n",
       "    }\n",
       "\n",
       "    .dataframe tbody tr th {\n",
       "        vertical-align: top;\n",
       "    }\n",
       "\n",
       "    .dataframe thead th {\n",
       "        text-align: right;\n",
       "    }\n",
       "</style>\n",
       "<table border=\"1\" class=\"dataframe\">\n",
       "  <thead>\n",
       "    <tr style=\"text-align: right;\">\n",
       "      <th></th>\n",
       "      <th>LONGITUD KM</th>\n",
       "      <th>ALCANCE</th>\n",
       "      <th>ACTUAL</th>\n",
       "      <th>PREDICTED</th>\n",
       "      <th>difference</th>\n",
       "    </tr>\n",
       "  </thead>\n",
       "  <tbody>\n",
       "    <tr>\n",
       "      <th>44</th>\n",
       "      <td>14.600</td>\n",
       "      <td>Construcción</td>\n",
       "      <td>1.769477e+07</td>\n",
       "      <td>1.975158e+07</td>\n",
       "      <td>2.056811e+06</td>\n",
       "    </tr>\n",
       "    <tr>\n",
       "      <th>45</th>\n",
       "      <td>49.400</td>\n",
       "      <td>Construcción</td>\n",
       "      <td>5.987133e+07</td>\n",
       "      <td>6.048702e+07</td>\n",
       "      <td>6.156924e+05</td>\n",
       "    </tr>\n",
       "    <tr>\n",
       "      <th>47</th>\n",
       "      <td>26.400</td>\n",
       "      <td>Construcción</td>\n",
       "      <td>3.199601e+07</td>\n",
       "      <td>3.166301e+07</td>\n",
       "      <td>3.330039e+05</td>\n",
       "    </tr>\n",
       "    <tr>\n",
       "      <th>41</th>\n",
       "      <td>26.200</td>\n",
       "      <td>Construcción</td>\n",
       "      <td>3.175362e+07</td>\n",
       "      <td>3.143885e+07</td>\n",
       "      <td>3.147705e+05</td>\n",
       "    </tr>\n",
       "    <tr>\n",
       "      <th>25</th>\n",
       "      <td>5.243</td>\n",
       "      <td>Mejoramiento</td>\n",
       "      <td>1.891486e+07</td>\n",
       "      <td>1.873103e+07</td>\n",
       "      <td>1.838290e+05</td>\n",
       "    </tr>\n",
       "    <tr>\n",
       "      <th>43</th>\n",
       "      <td>24.900</td>\n",
       "      <td>Construcción</td>\n",
       "      <td>3.017806e+07</td>\n",
       "      <td>2.999949e+07</td>\n",
       "      <td>1.785683e+05</td>\n",
       "    </tr>\n",
       "    <tr>\n",
       "      <th>46</th>\n",
       "      <td>40.800</td>\n",
       "      <td>Construcción</td>\n",
       "      <td>4.944838e+07</td>\n",
       "      <td>4.931742e+07</td>\n",
       "      <td>1.309673e+05</td>\n",
       "    </tr>\n",
       "    <tr>\n",
       "      <th>42</th>\n",
       "      <td>23.800</td>\n",
       "      <td>Construcción</td>\n",
       "      <td>2.884489e+07</td>\n",
       "      <td>2.880602e+07</td>\n",
       "      <td>3.886697e+04</td>\n",
       "    </tr>\n",
       "  </tbody>\n",
       "</table>\n",
       "</div>"
      ],
      "text/plain": [
       "    LONGITUD KM        ALCANCE        ACTUAL     PREDICTED    difference\n",
       "44       14.600  Construcción   1.769477e+07  1.975158e+07  2.056811e+06\n",
       "45       49.400  Construcción   5.987133e+07  6.048702e+07  6.156924e+05\n",
       "47       26.400  Construcción   3.199601e+07  3.166301e+07  3.330039e+05\n",
       "41       26.200  Construcción   3.175362e+07  3.143885e+07  3.147705e+05\n",
       "25        5.243   Mejoramiento  1.891486e+07  1.873103e+07  1.838290e+05\n",
       "43       24.900  Construcción   3.017806e+07  2.999949e+07  1.785683e+05\n",
       "46       40.800  Construcción   4.944838e+07  4.931742e+07  1.309673e+05\n",
       "42       23.800  Construcción   2.884489e+07  2.880602e+07  3.886697e+04"
      ]
     },
     "execution_count": 77,
     "metadata": {},
     "output_type": "execute_result"
    }
   ],
   "source": [
    "X['ACTUAL'] = y\n",
    "X['PREDICTED'] = y_predicted\n",
    "output = X.drop(columns=['LONGITUD KM LOG'])\n",
    "output['difference'] = abs(X['ACTUAL'] - X['PREDICTED'])\n",
    "output.sort_values(by='difference', ascending=False)"
   ]
  },
  {
   "cell_type": "code",
   "execution_count": null,
   "id": "e37e6bd6",
   "metadata": {},
   "outputs": [],
   "source": []
  }
 ],
 "metadata": {
  "kernelspec": {
   "display_name": "practicum",
   "language": "python",
   "name": "python3"
  },
  "language_info": {
   "codemirror_mode": {
    "name": "ipython",
    "version": 3
   },
   "file_extension": ".py",
   "mimetype": "text/x-python",
   "name": "python",
   "nbconvert_exporter": "python",
   "pygments_lexer": "ipython3",
   "version": "3.13.5"
  }
 },
 "nbformat": 4,
 "nbformat_minor": 5
}
