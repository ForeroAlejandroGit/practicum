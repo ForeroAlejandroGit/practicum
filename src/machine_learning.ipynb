{
 "cells": [
  {
   "cell_type": "code",
   "execution_count": 13,
   "id": "c2a1893b",
   "metadata": {},
   "outputs": [],
   "source": [
    "\n",
    "# SVR-only: preprocessing, log-feature, target log-transform, CV + grid search, plots\n",
    "from sklearn.model_selection import train_test_split, GridSearchCV\n",
    "from sklearn.compose import ColumnTransformer, TransformedTargetRegressor\n",
    "from sklearn.preprocessing import OneHotEncoder, StandardScaler\n",
    "from sklearn.pipeline import Pipeline\n",
    "from sklearn.svm import SVR\n",
    "from sklearn.metrics import r2_score, mean_absolute_error, mean_squared_error\n",
    "import numpy as np, seaborn as sns, matplotlib.pyplot as plt\n",
    "\n",
    "import eda\n",
    "import present_value"
   ]
  },
  {
   "cell_type": "code",
   "execution_count": 7,
   "id": "421a4b46",
   "metadata": {},
   "outputs": [],
   "source": [
    "pv = present_value.PresentValue()\n",
    "anual_increment = pv.fetch_salary_increase_per_year()"
   ]
  },
  {
   "cell_type": "code",
   "execution_count": 14,
   "id": "74624c37",
   "metadata": {},
   "outputs": [
    {
     "ename": "TypeError",
     "evalue": "EDA.assemble_project() takes 1 positional argument but 2 were given",
     "output_type": "error",
     "traceback": [
      "\u001b[31m---------------------------------------------------------------------------\u001b[39m",
      "\u001b[31mTypeError\u001b[39m                                 Traceback (most recent call last)",
      "\u001b[36mCell\u001b[39m\u001b[36m \u001b[39m\u001b[32mIn[14]\u001b[39m\u001b[32m, line 2\u001b[39m\n\u001b[32m      1\u001b[39m filename = \u001b[33m\"\u001b[39m\u001b[33m../data/raw/BASE DE DATOS PRESUPUESTOS.xlsx\u001b[39m\u001b[33m\"\u001b[39m\n\u001b[32m----> \u001b[39m\u001b[32m2\u001b[39m df = \u001b[43meda\u001b[49m\u001b[43m.\u001b[49m\u001b[43mEDA\u001b[49m\u001b[43m(\u001b[49m\u001b[43mfilename\u001b[49m\u001b[43m)\u001b[49m\u001b[43m.\u001b[49m\u001b[43mcreate_dataset\u001b[49m\u001b[43m(\u001b[49m\u001b[43mpv\u001b[49m\u001b[43m.\u001b[49m\u001b[43mpresent_value_costs\u001b[49m\u001b[43m)\u001b[49m\n",
      "\u001b[36mFile \u001b[39m\u001b[32mc:\\Code\\practicum\\src\\eda.py:127\u001b[39m, in \u001b[36mEDA.create_dataset\u001b[39m\u001b[34m(self, present_value_costs)\u001b[39m\n\u001b[32m    125\u001b[39m \u001b[38;5;28;01mdef\u001b[39;00m\u001b[38;5;250m \u001b[39m\u001b[34mcreate_dataset\u001b[39m(\u001b[38;5;28mself\u001b[39m, present_value_costs) -> pd.DataFrame:\n\u001b[32m--> \u001b[39m\u001b[32m127\u001b[39m     df = \u001b[38;5;28;43mself\u001b[39;49m\u001b[43m.\u001b[49m\u001b[43massemble_project\u001b[49m\u001b[43m(\u001b[49m\u001b[38;5;28;43mself\u001b[39;49m\u001b[43m.\u001b[49m\u001b[43mfilename\u001b[49m\u001b[43m)\u001b[49m\n\u001b[32m    129\u001b[39m     mask = df.columns[df.columns.str.match(\u001b[33mr\u001b[39m\u001b[33m\"\u001b[39m\u001b[33m^\u001b[39m\u001b[33m\\\u001b[39m\u001b[33md\u001b[39m\u001b[33m\"\u001b[39m)].tolist()\n\u001b[32m    130\u001b[39m     df_present_value = df.apply(present_value_costs, axis=\u001b[32m1\u001b[39m, mask=mask, present_year=\u001b[32m2025\u001b[39m)\n",
      "\u001b[31mTypeError\u001b[39m: EDA.assemble_project() takes 1 positional argument but 2 were given"
     ]
    }
   ],
   "source": [
    "filename = \"../data/raw/BASE DE DATOS PRESUPUESTOS.xlsx\"\n",
    "df = eda.EDA(filename).create_dataset(pv.present_value_costs)"
   ]
  },
  {
   "cell_type": "code",
   "execution_count": 15,
   "id": "9274ca2b",
   "metadata": {},
   "outputs": [],
   "source": [
    "def remove_outliers(df, target='2.2 TRAZADO Y DISEÑO GEOMÉTRICO'):\n",
    "    q1, q3 = df[target].quantile(0.05), df[target].quantile(0.95)\n",
    "    iqr = q3 - q1\n",
    "    x_clean = (df[target] >= q1 - 1.5*iqr) & (df[target] <= q3 + 1.5*iqr) & (df[target] != 0)\n",
    "    \n",
    "    df_clean = df[x_clean]\n",
    "    return df_clean"
   ]
  },
  {
   "cell_type": "code",
   "execution_count": null,
   "id": "7a16bbde",
   "metadata": {},
   "outputs": [],
   "source": [
    "df_clean = remove_outliers(df)[['LONGITUD KM', 'ALCANCE', '2.2 TRAZADO Y DISEÑO GEOMÉTRICO']]"
   ]
  },
  {
   "cell_type": "code",
   "execution_count": null,
   "id": "1d9d7719",
   "metadata": {},
   "outputs": [],
   "source": [
    "X = df_clean[['LONGITUD KM', 'ALCANCE']].copy()\n",
    "X['LONGITUD KM LOG'] = np.log1p(X['LONGITUD KM'])\n",
    "y = df_clean['2.2 TRAZADO Y DISEÑO GEOMÉTRICO'].astype(float)\n",
    "\n",
    "pre = ColumnTransformer([\n",
    "    ('num', StandardScaler(), ['LONGITUD KM', 'LONGITUD KM LOG']),\n",
    "    ('cat', OneHotEncoder(drop='first', handle_unknown='ignore'), ['ALCANCE'])\n",
    "])\n",
    "\n",
    "svr = SVR(kernel='rbf')\n",
    "pipe = Pipeline([('pre', pre), ('svr', svr)])\n",
    "model = TransformedTargetRegressor(regressor=pipe, func=np.log1p, inverse_func=np.expm1)\n",
    "\n",
    "param_grid = {\n",
    "    'regressor__svr__C': [10, 100, 300, 1000],\n",
    "    'regressor__svr__epsilon': [0.1, 0.3, 0.5, 1.0],\n",
    "    'regressor__svr__gamma': ['scale', 'auto', 0.1, 0.01],\n",
    "}\n",
    "\n",
    "Xtr, Xte, ytr, yte = train_test_split(X, y, test_size=0.3, random_state=1982)\n",
    "gs = GridSearchCV(model, param_grid, scoring='neg_root_mean_squared_error', cv=5, n_jobs=-1, refit=True)\n",
    "gs.fit(Xtr, ytr)\n",
    "\n",
    "yp = gs.predict(Xte)\n",
    "mae = mean_absolute_error(yte, yp)\n",
    "rmse = mean_squared_error(yte, yp)\n",
    "r2 = r2_score(yte, yp)\n",
    "mape = np.mean(np.abs((yte - yp) / yte.replace(0, np.nan))) * 100\n",
    "\n",
    "print('Best params:', gs.best_params_)\n",
    "print({'Test_R2': r2, 'Test_MAE': mae, 'Test_RMSE': rmse, 'Test_MAPE%': float(mape)})\n",
    "\n",
    "plt.style.use('seaborn-v0_8-whitegrid')\n",
    "fig, ax = plt.subplots(1, 2, figsize=(12,5))\n",
    "ax[0].scatter(yte, yp, alpha=0.6); lim = [yte.min(), yte.max()]\n",
    "ax[0].plot(lim, lim, 'r--'); ax[0].set_title('Actual vs Pred'); ax[0].set_xlabel('Actual'); ax[0].set_ylabel('Predicted')\n",
    "sns.histplot(yte - yp, kde=True, ax=ax[1], color='slateblue'); ax[1].set_title('Residuals')\n",
    "plt.tight_layout(); plt.show()"
   ]
  }
 ],
 "metadata": {
  "kernelspec": {
   "display_name": "practicum",
   "language": "python",
   "name": "python3"
  },
  "language_info": {
   "codemirror_mode": {
    "name": "ipython",
    "version": 3
   },
   "file_extension": ".py",
   "mimetype": "text/x-python",
   "name": "python",
   "nbconvert_exporter": "python",
   "pygments_lexer": "ipython3",
   "version": "3.13.5"
  }
 },
 "nbformat": 4,
 "nbformat_minor": 5
}
